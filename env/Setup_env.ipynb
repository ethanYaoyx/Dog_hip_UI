{
 "cells": [
  {
   "cell_type": "code",
   "execution_count": 1,
   "id": "d008e71f-be10-4ffe-8277-1173e42c75a0",
   "metadata": {},
   "outputs": [
    {
     "name": "stdout",
     "output_type": "stream",
     "text": [
      "Looking in indexes: https://pypi.tuna.tsinghua.edu.cn/simple\n",
      "Looking in links: https://download.pytorch.org/whl/cu113/torch_stable.html\n",
      "\u001b[31mERROR: Could not find a version that satisfies the requirement install (from versions: none)\u001b[0m\n",
      "\u001b[31mERROR: No matching distribution found for install\u001b[0m\n"
     ]
    }
   ],
   "source": [
    "!pip3 install install torch==1.10.1+cu113 torchvision==0.11.2+cu113 torchaudio==0.10.1+cu113 -f https://download.pytorch.org/whl/cu113/torch_stable.html"
   ]
  },
  {
   "cell_type": "code",
   "execution_count": 2,
   "id": "9b104d09-6a39-4462-9009-fa97adb76dec",
   "metadata": {},
   "outputs": [
    {
     "name": "stdout",
     "output_type": "stream",
     "text": [
      "\u001b[33mWARNING: Skipping mmcv as it is not installed.\u001b[0m\n"
     ]
    }
   ],
   "source": [
    "!pip uninstall mmcv"
   ]
  },
  {
   "cell_type": "code",
   "execution_count": 3,
   "id": "abfff8a3-690e-4d22-9433-02c5737a9081",
   "metadata": {
    "collapsed": true,
    "jupyter": {
     "outputs_hidden": true
    },
    "tags": []
   },
   "outputs": [
    {
     "name": "stdout",
     "output_type": "stream",
     "text": [
      "Looking in indexes: https://pypi.tuna.tsinghua.edu.cn/simple\n",
      "Collecting timm\n",
      "  Downloading https://pypi.tuna.tsinghua.edu.cn/packages/01/a5/eeb717242343d9ca34e7de554a6c08d96a0cfc7005ece4f847b1753581a6/timm-0.9.12-py3-none-any.whl (2.2 MB)\n",
      "\u001b[K     |████████████████████████████████| 2.2 MB 458 kB/s eta 0:00:01\n",
      "\u001b[?25hCollecting huggingface-hub\n",
      "  Downloading https://pypi.tuna.tsinghua.edu.cn/packages/7f/c4/adcbe9a696c135578cabcbdd7331332daad4d49b7c43688bc2d36b3a47d2/huggingface_hub-0.16.4-py3-none-any.whl (268 kB)\n",
      "\u001b[K     |████████████████████████████████| 268 kB 4.8 MB/s eta 0:00:01\n",
      "\u001b[?25hRequirement already satisfied: torch>=1.7 in /environment/miniconda3/lib/python3.7/site-packages (from timm) (1.10.0+cu113)\n",
      "Requirement already satisfied: torchvision in /environment/miniconda3/lib/python3.7/site-packages (from timm) (0.11.1+cu113)\n",
      "Requirement already satisfied: pyyaml in /environment/miniconda3/lib/python3.7/site-packages (from timm) (6.0)\n",
      "Collecting safetensors\n",
      "  Downloading https://pypi.tuna.tsinghua.edu.cn/packages/71/7e/2d5d6ee7b40c0682315367ec7475693d110f512922d582fef1bd4a63adc3/safetensors-0.5.3.tar.gz (67 kB)\n",
      "\u001b[K     |████████████████████████████████| 67 kB 2.8 MB/s eta 0:00:01\n",
      "\u001b[?25h  Installing build dependencies ... \u001b[?25ldone\n",
      "\u001b[?25h  Getting requirements to build wheel ... \u001b[?25ldone\n",
      "\u001b[?25h  Installing backend dependencies ... \u001b[?25lerror\n",
      "\u001b[31m  ERROR: Command errored out with exit status 1:\n",
      "   command: /environment/miniconda3/bin/python /tmp/pip-standalone-pip-uz8taf91/__env_pip__.zip/pip install --ignore-installed --no-user --prefix /tmp/pip-build-env-uzxvq4gd/normal --no-warn-script-location --no-binary :none: --only-binary :none: -i https://pypi.tuna.tsinghua.edu.cn/simple -- puccinialin\n",
      "       cwd: None\n",
      "  Complete output (3 lines):\n",
      "  Looking in indexes: https://pypi.tuna.tsinghua.edu.cn/simple\n",
      "  ERROR: Could not find a version that satisfies the requirement puccinialin (from versions: none)\n",
      "  ERROR: No matching distribution found for puccinialin\n",
      "  ----------------------------------------\u001b[0m\n",
      "\u001b[?25h\u001b[33mWARNING: Discarding https://pypi.tuna.tsinghua.edu.cn/packages/71/7e/2d5d6ee7b40c0682315367ec7475693d110f512922d582fef1bd4a63adc3/safetensors-0.5.3.tar.gz#sha256=b6b0d6ecacec39a4fdd99cc19f4576f5219ce858e6fd8dbe7609df0b8dc56965 (from https://pypi.tuna.tsinghua.edu.cn/simple/safetensors/) (requires-python:>=3.7). Command errored out with exit status 1: /environment/miniconda3/bin/python /tmp/pip-standalone-pip-uz8taf91/__env_pip__.zip/pip install --ignore-installed --no-user --prefix /tmp/pip-build-env-uzxvq4gd/normal --no-warn-script-location --no-binary :none: --only-binary :none: -i https://pypi.tuna.tsinghua.edu.cn/simple -- puccinialin Check the logs for full command output.\u001b[0m\n",
      "  Downloading https://pypi.tuna.tsinghua.edu.cn/packages/f4/4f/2ef9ef1766f8c194b01b67a63a444d2e557c8fe1d82faf3ebd85f370a917/safetensors-0.5.2.tar.gz (66 kB)\n",
      "\u001b[K     |████████████████████████████████| 66 kB 2.4 MB/s eta 0:00:01\n",
      "\u001b[?25h  Installing build dependencies ... \u001b[?25ldone\n",
      "\u001b[?25h  Getting requirements to build wheel ... \u001b[?25ldone\n",
      "\u001b[?25h  Installing backend dependencies ... \u001b[?25lerror\n",
      "\u001b[31m  ERROR: Command errored out with exit status 1:\n",
      "   command: /environment/miniconda3/bin/python /tmp/pip-standalone-pip-xtcvxi5_/__env_pip__.zip/pip install --ignore-installed --no-user --prefix /tmp/pip-build-env-bgbj280k/normal --no-warn-script-location --no-binary :none: --only-binary :none: -i https://pypi.tuna.tsinghua.edu.cn/simple -- puccinialin\n",
      "       cwd: None\n",
      "  Complete output (3 lines):\n",
      "  Looking in indexes: https://pypi.tuna.tsinghua.edu.cn/simple\n",
      "  ERROR: Could not find a version that satisfies the requirement puccinialin (from versions: none)\n",
      "  ERROR: No matching distribution found for puccinialin\n",
      "  ----------------------------------------\u001b[0m\n",
      "\u001b[?25h\u001b[33mWARNING: Discarding https://pypi.tuna.tsinghua.edu.cn/packages/f4/4f/2ef9ef1766f8c194b01b67a63a444d2e557c8fe1d82faf3ebd85f370a917/safetensors-0.5.2.tar.gz#sha256=cb4a8d98ba12fa016f4241932b1fc5e702e5143f5374bba0bbcf7ddc1c4cf2b8 (from https://pypi.tuna.tsinghua.edu.cn/simple/safetensors/) (requires-python:>=3.7). Command errored out with exit status 1: /environment/miniconda3/bin/python /tmp/pip-standalone-pip-xtcvxi5_/__env_pip__.zip/pip install --ignore-installed --no-user --prefix /tmp/pip-build-env-bgbj280k/normal --no-warn-script-location --no-binary :none: --only-binary :none: -i https://pypi.tuna.tsinghua.edu.cn/simple -- puccinialin Check the logs for full command output.\u001b[0m\n",
      "  Downloading https://pypi.tuna.tsinghua.edu.cn/packages/cd/4b/a45aedf2375cd86314749ad4760545b6e4ec7b306cfa142776daaca6c980/safetensors-0.5.1.tar.gz (66 kB)\n",
      "\u001b[K     |████████████████████████████████| 66 kB 7.0 MB/s  eta 0:00:01\n",
      "\u001b[?25h  Installing build dependencies ... \u001b[?25ldone\n",
      "\u001b[?25h  Getting requirements to build wheel ... \u001b[?25ldone\n",
      "\u001b[?25h  Installing backend dependencies ... \u001b[?25lerror\n",
      "\u001b[31m  ERROR: Command errored out with exit status 1:\n",
      "   command: /environment/miniconda3/bin/python /tmp/pip-standalone-pip-ll9xcl52/__env_pip__.zip/pip install --ignore-installed --no-user --prefix /tmp/pip-build-env-cm5_axfp/normal --no-warn-script-location --no-binary :none: --only-binary :none: -i https://pypi.tuna.tsinghua.edu.cn/simple -- puccinialin\n",
      "       cwd: None\n",
      "  Complete output (3 lines):\n",
      "  Looking in indexes: https://pypi.tuna.tsinghua.edu.cn/simple\n",
      "  ERROR: Could not find a version that satisfies the requirement puccinialin (from versions: none)\n",
      "  ERROR: No matching distribution found for puccinialin\n",
      "  ----------------------------------------\u001b[0m\n",
      "\u001b[?25h\u001b[33mWARNING: Discarding https://pypi.tuna.tsinghua.edu.cn/packages/cd/4b/a45aedf2375cd86314749ad4760545b6e4ec7b306cfa142776daaca6c980/safetensors-0.5.1.tar.gz#sha256=75927919a73b0f34d6943b531d757f724e65797a900d88d8081fe8b4448eadc3 (from https://pypi.tuna.tsinghua.edu.cn/simple/safetensors/) (requires-python:>=3.7). Command errored out with exit status 1: /environment/miniconda3/bin/python /tmp/pip-standalone-pip-ll9xcl52/__env_pip__.zip/pip install --ignore-installed --no-user --prefix /tmp/pip-build-env-cm5_axfp/normal --no-warn-script-location --no-binary :none: --only-binary :none: -i https://pypi.tuna.tsinghua.edu.cn/simple -- puccinialin Check the logs for full command output.\u001b[0m\n",
      "  Downloading https://pypi.tuna.tsinghua.edu.cn/packages/5d/b3/1d9000e9d0470499d124ca63c6908f8092b528b48bd95ba11507e14d9dba/safetensors-0.5.0.tar.gz (65 kB)\n",
      "\u001b[K     |████████████████████████████████| 65 kB 2.4 MB/s eta 0:00:01\n",
      "\u001b[?25h  Installing build dependencies ... \u001b[?25ldone\n",
      "\u001b[?25h  Getting requirements to build wheel ... \u001b[?25ldone\n",
      "\u001b[?25h  Installing backend dependencies ... \u001b[?25lerror\n",
      "\u001b[31m  ERROR: Command errored out with exit status 1:\n",
      "   command: /environment/miniconda3/bin/python /tmp/pip-standalone-pip-adua3uup/__env_pip__.zip/pip install --ignore-installed --no-user --prefix /tmp/pip-build-env-0ltw56f1/normal --no-warn-script-location --no-binary :none: --only-binary :none: -i https://pypi.tuna.tsinghua.edu.cn/simple -- puccinialin\n",
      "       cwd: None\n",
      "  Complete output (3 lines):\n",
      "  Looking in indexes: https://pypi.tuna.tsinghua.edu.cn/simple\n",
      "  ERROR: Could not find a version that satisfies the requirement puccinialin (from versions: none)\n",
      "  ERROR: No matching distribution found for puccinialin\n",
      "  ----------------------------------------\u001b[0m\n",
      "\u001b[?25h\u001b[33mWARNING: Discarding https://pypi.tuna.tsinghua.edu.cn/packages/5d/b3/1d9000e9d0470499d124ca63c6908f8092b528b48bd95ba11507e14d9dba/safetensors-0.5.0.tar.gz#sha256=c47b34c549fa1e0c655c4644da31332c61332c732c47c8dd9399347e9aac69d1 (from https://pypi.tuna.tsinghua.edu.cn/simple/safetensors/) (requires-python:>=3.7). Command errored out with exit status 1: /environment/miniconda3/bin/python /tmp/pip-standalone-pip-adua3uup/__env_pip__.zip/pip install --ignore-installed --no-user --prefix /tmp/pip-build-env-0ltw56f1/normal --no-warn-script-location --no-binary :none: --only-binary :none: -i https://pypi.tuna.tsinghua.edu.cn/simple -- puccinialin Check the logs for full command output.\u001b[0m\n",
      "  Downloading https://pypi.tuna.tsinghua.edu.cn/packages/22/f9/09094fb5993ff259359e0329390158f672be6de23383464f769daf8b5d91/safetensors-0.4.5-cp37-cp37m-manylinux_2_17_x86_64.manylinux2014_x86_64.whl (436 kB)\n",
      "\u001b[K     |████████████████████████████████| 436 kB 4.6 MB/s eta 0:00:01\n",
      "\u001b[?25hRequirement already satisfied: typing-extensions in /environment/miniconda3/lib/python3.7/site-packages (from torch>=1.7->timm) (4.0.1)\n",
      "Requirement already satisfied: requests in /environment/miniconda3/lib/python3.7/site-packages (from huggingface-hub->timm) (2.28.2)\n",
      "Requirement already satisfied: importlib-metadata in /environment/miniconda3/lib/python3.7/site-packages (from huggingface-hub->timm) (4.8.2)\n",
      "Requirement already satisfied: tqdm>=4.42.1 in /environment/miniconda3/lib/python3.7/site-packages (from huggingface-hub->timm) (4.65.2)\n",
      "Requirement already satisfied: packaging>=20.9 in /environment/miniconda3/lib/python3.7/site-packages (from huggingface-hub->timm) (21.3)\n",
      "Collecting filelock\n",
      "  Downloading https://pypi.tuna.tsinghua.edu.cn/packages/00/45/ec3407adf6f6b5bf867a4462b2b0af27597a26bd3cd6e2534cb6ab029938/filelock-3.12.2-py3-none-any.whl (10 kB)\n",
      "Collecting fsspec\n",
      "  Downloading https://pypi.tuna.tsinghua.edu.cn/packages/bd/64/f0d369ede0ca54fdd520bdee5086dbaf0af81dac53a2ce847bd1ec6e0bf1/fsspec-2023.1.0-py3-none-any.whl (143 kB)\n",
      "\u001b[K     |████████████████████████████████| 143 kB 108.4 MB/s eta 0:00:01\n",
      "\u001b[?25hRequirement already satisfied: pyparsing!=3.0.5,>=2.0.2 in /environment/miniconda3/lib/python3.7/site-packages (from packaging>=20.9->huggingface-hub->timm) (3.0.6)\n",
      "Requirement already satisfied: zipp>=0.5 in /environment/miniconda3/lib/python3.7/site-packages (from importlib-metadata->huggingface-hub->timm) (3.6.0)\n",
      "Requirement already satisfied: idna<4,>=2.5 in /environment/miniconda3/lib/python3.7/site-packages (from requests->huggingface-hub->timm) (2.10)\n",
      "Requirement already satisfied: certifi>=2017.4.17 in /environment/miniconda3/lib/python3.7/site-packages (from requests->huggingface-hub->timm) (2021.5.30)\n",
      "Requirement already satisfied: charset-normalizer<4,>=2 in /environment/miniconda3/lib/python3.7/site-packages (from requests->huggingface-hub->timm) (3.4.2)\n",
      "Requirement already satisfied: urllib3<1.27,>=1.21.1 in /environment/miniconda3/lib/python3.7/site-packages (from requests->huggingface-hub->timm) (1.25.11)\n",
      "Requirement already satisfied: pillow!=8.3.0,>=5.3.0 in /environment/miniconda3/lib/python3.7/site-packages (from torchvision->timm) (8.4.0)\n",
      "Requirement already satisfied: numpy in /environment/miniconda3/lib/python3.7/site-packages (from torchvision->timm) (1.21.4)\n",
      "Installing collected packages: fsspec, filelock, safetensors, huggingface-hub, timm\n",
      "Successfully installed filelock-3.12.2 fsspec-2023.1.0 huggingface-hub-0.16.4 safetensors-0.4.5 timm-0.9.12\n"
     ]
    }
   ],
   "source": [
    "!pip install timm\n"
   ]
  },
  {
   "cell_type": "code",
   "execution_count": 16,
   "id": "cfa16525-1456-4bc9-834f-467d0239bae4",
   "metadata": {
    "collapsed": true,
    "jupyter": {
     "outputs_hidden": true
    },
    "tags": []
   },
   "outputs": [
    {
     "name": "stdout",
     "output_type": "stream",
     "text": [
      "Looking in indexes: https://pypi.tuna.tsinghua.edu.cn/simple\n",
      "Requirement already satisfied: openmim in /environment/miniconda3/lib/python3.7/site-packages (0.3.9)\n",
      "Requirement already satisfied: tabulate in /environment/miniconda3/lib/python3.7/site-packages (from openmim) (0.8.7)\n",
      "Requirement already satisfied: pip>=19.3 in /environment/miniconda3/lib/python3.7/site-packages (from openmim) (21.1.3)\n",
      "Requirement already satisfied: requests in /environment/miniconda3/lib/python3.7/site-packages (from openmim) (2.28.2)\n",
      "Requirement already satisfied: pandas in /environment/miniconda3/lib/python3.7/site-packages (from openmim) (1.3.4)\n",
      "Requirement already satisfied: Click in /environment/miniconda3/lib/python3.7/site-packages (from openmim) (7.1.2)\n",
      "Requirement already satisfied: colorama in /environment/miniconda3/lib/python3.7/site-packages (from openmim) (0.4.4)\n",
      "Requirement already satisfied: rich in /environment/miniconda3/lib/python3.7/site-packages (from openmim) (13.8.1)\n",
      "Requirement already satisfied: opendatalab in /environment/miniconda3/lib/python3.7/site-packages (from openmim) (0.0.10)\n",
      "Requirement already satisfied: model-index in /environment/miniconda3/lib/python3.7/site-packages (from openmim) (0.1.11)\n",
      "Requirement already satisfied: ordered-set in /environment/miniconda3/lib/python3.7/site-packages (from model-index->openmim) (4.1.0)\n",
      "Requirement already satisfied: pyyaml in /environment/miniconda3/lib/python3.7/site-packages (from model-index->openmim) (6.0)\n",
      "Requirement already satisfied: markdown in /environment/miniconda3/lib/python3.7/site-packages (from model-index->openmim) (3.3.6)\n",
      "Requirement already satisfied: importlib-metadata>=4.4 in /environment/miniconda3/lib/python3.7/site-packages (from markdown->model-index->openmim) (4.8.2)\n",
      "Requirement already satisfied: typing-extensions>=3.6.4 in /environment/miniconda3/lib/python3.7/site-packages (from importlib-metadata>=4.4->markdown->model-index->openmim) (4.0.1)\n",
      "Requirement already satisfied: zipp>=0.5 in /environment/miniconda3/lib/python3.7/site-packages (from importlib-metadata>=4.4->markdown->model-index->openmim) (3.6.0)\n",
      "Requirement already satisfied: openxlab in /environment/miniconda3/lib/python3.7/site-packages (from opendatalab->openmim) (0.0.10)\n",
      "Requirement already satisfied: tqdm in /environment/miniconda3/lib/python3.7/site-packages (from opendatalab->openmim) (4.65.2)\n",
      "Requirement already satisfied: pycryptodome in /environment/miniconda3/lib/python3.7/site-packages (from opendatalab->openmim) (3.12.0)\n",
      "Requirement already satisfied: idna<4,>=2.5 in /environment/miniconda3/lib/python3.7/site-packages (from requests->openmim) (2.10)\n",
      "Requirement already satisfied: charset-normalizer<4,>=2 in /environment/miniconda3/lib/python3.7/site-packages (from requests->openmim) (3.4.2)\n",
      "Requirement already satisfied: urllib3<1.27,>=1.21.1 in /environment/miniconda3/lib/python3.7/site-packages (from requests->openmim) (1.25.11)\n",
      "Requirement already satisfied: certifi>=2017.4.17 in /environment/miniconda3/lib/python3.7/site-packages (from requests->openmim) (2021.5.30)\n",
      "Requirement already satisfied: pytz~=2023.3 in /environment/miniconda3/lib/python3.7/site-packages (from openxlab->opendatalab->openmim) (2023.4)\n",
      "Requirement already satisfied: setuptools~=60.2.0 in /environment/miniconda3/lib/python3.7/site-packages (from openxlab->opendatalab->openmim) (60.2.0)\n",
      "Requirement already satisfied: oss2~=2.17.0 in /environment/miniconda3/lib/python3.7/site-packages (from openxlab->opendatalab->openmim) (2.17.0)\n",
      "Requirement already satisfied: aliyun-python-sdk-kms>=2.4.1 in /environment/miniconda3/lib/python3.7/site-packages (from oss2~=2.17.0->openxlab->opendatalab->openmim) (2.15.0)\n",
      "Requirement already satisfied: aliyun-python-sdk-core>=2.13.12 in /environment/miniconda3/lib/python3.7/site-packages (from oss2~=2.17.0->openxlab->opendatalab->openmim) (2.13.35)\n",
      "Requirement already satisfied: six in /environment/miniconda3/lib/python3.7/site-packages (from oss2~=2.17.0->openxlab->opendatalab->openmim) (1.16.0)\n",
      "Requirement already satisfied: crcmod>=1.7 in /environment/miniconda3/lib/python3.7/site-packages (from oss2~=2.17.0->openxlab->opendatalab->openmim) (1.7)\n",
      "Requirement already satisfied: jmespath<1.0.0,>=0.9.3 in /environment/miniconda3/lib/python3.7/site-packages (from aliyun-python-sdk-core>=2.13.12->oss2~=2.17.0->openxlab->opendatalab->openmim) (0.10.0)\n",
      "Requirement already satisfied: cryptography>=2.6.0 in /environment/miniconda3/lib/python3.7/site-packages (from aliyun-python-sdk-core>=2.13.12->oss2~=2.17.0->openxlab->opendatalab->openmim) (3.4.7)\n",
      "Requirement already satisfied: cffi>=1.12 in /environment/miniconda3/lib/python3.7/site-packages (from cryptography>=2.6.0->aliyun-python-sdk-core>=2.13.12->oss2~=2.17.0->openxlab->opendatalab->openmim) (1.14.6)\n",
      "Requirement already satisfied: pycparser in /environment/miniconda3/lib/python3.7/site-packages (from cffi>=1.12->cryptography>=2.6.0->aliyun-python-sdk-core>=2.13.12->oss2~=2.17.0->openxlab->opendatalab->openmim) (2.20)\n",
      "Requirement already satisfied: python-dateutil>=2.7.3 in /environment/miniconda3/lib/python3.7/site-packages (from pandas->openmim) (2.8.2)\n",
      "Requirement already satisfied: numpy>=1.17.3 in /environment/miniconda3/lib/python3.7/site-packages (from pandas->openmim) (1.21.4)\n",
      "Requirement already satisfied: pygments<3.0.0,>=2.13.0 in /environment/miniconda3/lib/python3.7/site-packages (from rich->openmim) (2.17.2)\n",
      "Requirement already satisfied: markdown-it-py>=2.2.0 in /environment/miniconda3/lib/python3.7/site-packages (from rich->openmim) (2.2.0)\n",
      "Requirement already satisfied: mdurl~=0.1 in /environment/miniconda3/lib/python3.7/site-packages (from markdown-it-py>=2.2.0->rich->openmim) (0.1.2)\n",
      "Looking in indexes: https://pypi.tuna.tsinghua.edu.cn/simple\n",
      "Looking in links: https://download.openmmlab.com/mmcv/dist/cu113/torch1.10.0/index.html\n",
      "Requirement already satisfied: mmengine in /environment/miniconda3/lib/python3.7/site-packages (0.10.7)\n",
      "Requirement already satisfied: rich in /environment/miniconda3/lib/python3.7/site-packages (from mmengine) (13.8.1)\n",
      "Requirement already satisfied: termcolor in /environment/miniconda3/lib/python3.7/site-packages (from mmengine) (1.1.0)\n",
      "Requirement already satisfied: matplotlib in /environment/miniconda3/lib/python3.7/site-packages (from mmengine) (3.5.0)\n",
      "Requirement already satisfied: yapf in /environment/miniconda3/lib/python3.7/site-packages (from mmengine) (0.31.0)\n",
      "Requirement already satisfied: numpy in /environment/miniconda3/lib/python3.7/site-packages (from mmengine) (1.21.4)\n",
      "Requirement already satisfied: addict in /environment/miniconda3/lib/python3.7/site-packages (from mmengine) (2.4.0)\n",
      "Requirement already satisfied: pyyaml in /environment/miniconda3/lib/python3.7/site-packages (from mmengine) (6.0)\n",
      "Requirement already satisfied: opencv-python>=3 in /environment/miniconda3/lib/python3.7/site-packages (from mmengine) (4.5.4.60)\n",
      "Requirement already satisfied: cycler>=0.10 in /environment/miniconda3/lib/python3.7/site-packages (from matplotlib->mmengine) (0.11.0)\n",
      "Requirement already satisfied: pillow>=6.2.0 in /environment/miniconda3/lib/python3.7/site-packages (from matplotlib->mmengine) (8.4.0)\n",
      "Requirement already satisfied: kiwisolver>=1.0.1 in /environment/miniconda3/lib/python3.7/site-packages (from matplotlib->mmengine) (1.3.2)\n",
      "Requirement already satisfied: pyparsing>=2.2.1 in /environment/miniconda3/lib/python3.7/site-packages (from matplotlib->mmengine) (3.0.6)\n",
      "Requirement already satisfied: setuptools-scm>=4 in /environment/miniconda3/lib/python3.7/site-packages (from matplotlib->mmengine) (6.3.2)\n",
      "Requirement already satisfied: fonttools>=4.22.0 in /environment/miniconda3/lib/python3.7/site-packages (from matplotlib->mmengine) (4.28.3)\n",
      "Requirement already satisfied: packaging>=20.0 in /environment/miniconda3/lib/python3.7/site-packages (from matplotlib->mmengine) (21.3)\n",
      "Requirement already satisfied: python-dateutil>=2.7 in /environment/miniconda3/lib/python3.7/site-packages (from matplotlib->mmengine) (2.8.2)\n",
      "Requirement already satisfied: six>=1.5 in /environment/miniconda3/lib/python3.7/site-packages (from python-dateutil>=2.7->matplotlib->mmengine) (1.16.0)\n",
      "Requirement already satisfied: tomli>=1.0.0 in /environment/miniconda3/lib/python3.7/site-packages (from setuptools-scm>=4->matplotlib->mmengine) (1.2.2)\n",
      "Requirement already satisfied: setuptools in /environment/miniconda3/lib/python3.7/site-packages (from setuptools-scm>=4->matplotlib->mmengine) (60.2.0)\n",
      "Requirement already satisfied: markdown-it-py>=2.2.0 in /environment/miniconda3/lib/python3.7/site-packages (from rich->mmengine) (2.2.0)\n",
      "Requirement already satisfied: typing-extensions<5.0,>=4.0.0 in /environment/miniconda3/lib/python3.7/site-packages (from rich->mmengine) (4.0.1)\n",
      "Requirement already satisfied: pygments<3.0.0,>=2.13.0 in /environment/miniconda3/lib/python3.7/site-packages (from rich->mmengine) (2.17.2)\n",
      "Requirement already satisfied: mdurl~=0.1 in /environment/miniconda3/lib/python3.7/site-packages (from markdown-it-py>=2.2.0->rich->mmengine) (0.1.2)\n",
      "Looking in indexes: https://pypi.tuna.tsinghua.edu.cn/simple\n",
      "Looking in links: https://download.openmmlab.com/mmcv/dist/cu113/torch1.10.0/index.html\n",
      "Collecting mmcv==2.0.0rc3\n",
      "  Using cached https://download.openmmlab.com/mmcv/dist/cu113/torch1.10.0/mmcv-2.0.0rc3-cp37-cp37m-manylinux1_x86_64.whl (57.9 MB)\n",
      "Requirement already satisfied: yapf in /environment/miniconda3/lib/python3.7/site-packages (from mmcv==2.0.0rc3) (0.31.0)\n",
      "Requirement already satisfied: mmengine in /environment/miniconda3/lib/python3.7/site-packages (from mmcv==2.0.0rc3) (0.10.7)\n",
      "Requirement already satisfied: packaging in /environment/miniconda3/lib/python3.7/site-packages (from mmcv==2.0.0rc3) (21.3)\n",
      "Requirement already satisfied: Pillow in /environment/miniconda3/lib/python3.7/site-packages (from mmcv==2.0.0rc3) (8.4.0)\n",
      "Requirement already satisfied: pyyaml in /environment/miniconda3/lib/python3.7/site-packages (from mmcv==2.0.0rc3) (6.0)\n",
      "Requirement already satisfied: numpy in /environment/miniconda3/lib/python3.7/site-packages (from mmcv==2.0.0rc3) (1.21.4)\n",
      "Requirement already satisfied: opencv-python>=3 in /environment/miniconda3/lib/python3.7/site-packages (from mmcv==2.0.0rc3) (4.5.4.60)\n",
      "Requirement already satisfied: addict in /environment/miniconda3/lib/python3.7/site-packages (from mmcv==2.0.0rc3) (2.4.0)\n",
      "Requirement already satisfied: termcolor in /environment/miniconda3/lib/python3.7/site-packages (from mmengine->mmcv==2.0.0rc3) (1.1.0)\n",
      "Requirement already satisfied: matplotlib in /environment/miniconda3/lib/python3.7/site-packages (from mmengine->mmcv==2.0.0rc3) (3.5.0)\n",
      "Requirement already satisfied: rich in /environment/miniconda3/lib/python3.7/site-packages (from mmengine->mmcv==2.0.0rc3) (13.8.1)\n",
      "Requirement already satisfied: fonttools>=4.22.0 in /environment/miniconda3/lib/python3.7/site-packages (from matplotlib->mmengine->mmcv==2.0.0rc3) (4.28.3)\n",
      "Requirement already satisfied: python-dateutil>=2.7 in /environment/miniconda3/lib/python3.7/site-packages (from matplotlib->mmengine->mmcv==2.0.0rc3) (2.8.2)\n",
      "Requirement already satisfied: cycler>=0.10 in /environment/miniconda3/lib/python3.7/site-packages (from matplotlib->mmengine->mmcv==2.0.0rc3) (0.11.0)\n",
      "Requirement already satisfied: kiwisolver>=1.0.1 in /environment/miniconda3/lib/python3.7/site-packages (from matplotlib->mmengine->mmcv==2.0.0rc3) (1.3.2)\n",
      "Requirement already satisfied: setuptools-scm>=4 in /environment/miniconda3/lib/python3.7/site-packages (from matplotlib->mmengine->mmcv==2.0.0rc3) (6.3.2)\n",
      "Requirement already satisfied: pyparsing>=2.2.1 in /environment/miniconda3/lib/python3.7/site-packages (from matplotlib->mmengine->mmcv==2.0.0rc3) (3.0.6)\n",
      "Requirement already satisfied: six>=1.5 in /environment/miniconda3/lib/python3.7/site-packages (from python-dateutil>=2.7->matplotlib->mmengine->mmcv==2.0.0rc3) (1.16.0)\n",
      "Requirement already satisfied: setuptools in /environment/miniconda3/lib/python3.7/site-packages (from setuptools-scm>=4->matplotlib->mmengine->mmcv==2.0.0rc3) (60.2.0)\n",
      "Requirement already satisfied: tomli>=1.0.0 in /environment/miniconda3/lib/python3.7/site-packages (from setuptools-scm>=4->matplotlib->mmengine->mmcv==2.0.0rc3) (1.2.2)\n",
      "Requirement already satisfied: typing-extensions<5.0,>=4.0.0 in /environment/miniconda3/lib/python3.7/site-packages (from rich->mmengine->mmcv==2.0.0rc3) (4.0.1)\n",
      "Requirement already satisfied: pygments<3.0.0,>=2.13.0 in /environment/miniconda3/lib/python3.7/site-packages (from rich->mmengine->mmcv==2.0.0rc3) (2.17.2)\n",
      "Requirement already satisfied: markdown-it-py>=2.2.0 in /environment/miniconda3/lib/python3.7/site-packages (from rich->mmengine->mmcv==2.0.0rc3) (2.2.0)\n",
      "Requirement already satisfied: mdurl~=0.1 in /environment/miniconda3/lib/python3.7/site-packages (from markdown-it-py>=2.2.0->rich->mmengine->mmcv==2.0.0rc3) (0.1.2)\n",
      "Installing collected packages: mmcv\n",
      "\u001b[31mERROR: pip's dependency resolver does not currently take into account all the packages that are installed. This behaviour is the source of the following dependency conflicts.\n",
      "mmdet 3.0.0 requires mmcv<2.1.0,>=2.0.0rc4, but you have mmcv 2.0.0rc3 which is incompatible.\n",
      "mmpose 1.0.0 requires mmcv<2.1.0,>=2.0.0, but you have mmcv 2.0.0rc3 which is incompatible.\u001b[0m\n",
      "Successfully installed mmcv-2.0.0rc3\n",
      "Looking in indexes: https://pypi.tuna.tsinghua.edu.cn/simple\n",
      "Looking in links: https://download.openmmlab.com/mmcv/dist/cu113/torch1.10.0/index.html\n",
      "Requirement already satisfied: mmdet>=3.0.0rc6 in /home/featurize/work/Image_Website/ethanYaoyx-Image_Generation_for_Medical_Application_Dog_hip/mmdetection (3.0.0)\n",
      "Requirement already satisfied: matplotlib in /environment/miniconda3/lib/python3.7/site-packages (from mmdet>=3.0.0rc6) (3.5.0)\n",
      "Requirement already satisfied: numpy in /environment/miniconda3/lib/python3.7/site-packages (from mmdet>=3.0.0rc6) (1.21.4)\n",
      "Requirement already satisfied: pycocotools in /environment/miniconda3/lib/python3.7/site-packages (from mmdet>=3.0.0rc6) (2.0.7)\n",
      "Requirement already satisfied: scipy in /environment/miniconda3/lib/python3.7/site-packages (from mmdet>=3.0.0rc6) (1.7.3)\n",
      "Requirement already satisfied: shapely in /environment/miniconda3/lib/python3.7/site-packages (from mmdet>=3.0.0rc6) (2.0.7)\n",
      "Requirement already satisfied: six in /environment/miniconda3/lib/python3.7/site-packages (from mmdet>=3.0.0rc6) (1.16.0)\n",
      "Requirement already satisfied: terminaltables in /environment/miniconda3/lib/python3.7/site-packages (from mmdet>=3.0.0rc6) (3.1.10)\n",
      "Collecting mmcv<2.1.0,>=2.0.0rc4\n",
      "  Downloading https://download.openmmlab.com/mmcv/dist/cu113/torch1.10.0/mmcv-2.0.1-cp37-cp37m-manylinux1_x86_64.whl (86.3 MB)\n",
      "\u001b[K     |████████████████████████████████| 86.3 MB 62.4 MB/s eta 0:00:01\n",
      "\u001b[?25hRequirement already satisfied: mmengine<1.0.0,>=0.7.1 in /environment/miniconda3/lib/python3.7/site-packages (from mmdet>=3.0.0rc6) (0.10.7)\n",
      "Requirement already satisfied: packaging in /environment/miniconda3/lib/python3.7/site-packages (from mmcv<2.1.0,>=2.0.0rc4->mmdet>=3.0.0rc6) (21.3)\n",
      "Requirement already satisfied: pyyaml in /environment/miniconda3/lib/python3.7/site-packages (from mmcv<2.1.0,>=2.0.0rc4->mmdet>=3.0.0rc6) (6.0)\n",
      "Requirement already satisfied: addict in /environment/miniconda3/lib/python3.7/site-packages (from mmcv<2.1.0,>=2.0.0rc4->mmdet>=3.0.0rc6) (2.4.0)\n",
      "Requirement already satisfied: yapf in /environment/miniconda3/lib/python3.7/site-packages (from mmcv<2.1.0,>=2.0.0rc4->mmdet>=3.0.0rc6) (0.31.0)\n",
      "Requirement already satisfied: Pillow in /environment/miniconda3/lib/python3.7/site-packages (from mmcv<2.1.0,>=2.0.0rc4->mmdet>=3.0.0rc6) (8.4.0)\n",
      "Requirement already satisfied: opencv-python>=3 in /environment/miniconda3/lib/python3.7/site-packages (from mmcv<2.1.0,>=2.0.0rc4->mmdet>=3.0.0rc6) (4.5.4.60)\n",
      "Requirement already satisfied: termcolor in /environment/miniconda3/lib/python3.7/site-packages (from mmengine<1.0.0,>=0.7.1->mmdet>=3.0.0rc6) (1.1.0)\n",
      "Requirement already satisfied: rich in /environment/miniconda3/lib/python3.7/site-packages (from mmengine<1.0.0,>=0.7.1->mmdet>=3.0.0rc6) (13.8.1)\n",
      "Requirement already satisfied: pyparsing>=2.2.1 in /environment/miniconda3/lib/python3.7/site-packages (from matplotlib->mmdet>=3.0.0rc6) (3.0.6)\n",
      "Requirement already satisfied: python-dateutil>=2.7 in /environment/miniconda3/lib/python3.7/site-packages (from matplotlib->mmdet>=3.0.0rc6) (2.8.2)\n",
      "Requirement already satisfied: setuptools-scm>=4 in /environment/miniconda3/lib/python3.7/site-packages (from matplotlib->mmdet>=3.0.0rc6) (6.3.2)\n",
      "Requirement already satisfied: cycler>=0.10 in /environment/miniconda3/lib/python3.7/site-packages (from matplotlib->mmdet>=3.0.0rc6) (0.11.0)\n",
      "Requirement already satisfied: fonttools>=4.22.0 in /environment/miniconda3/lib/python3.7/site-packages (from matplotlib->mmdet>=3.0.0rc6) (4.28.3)\n",
      "Requirement already satisfied: kiwisolver>=1.0.1 in /environment/miniconda3/lib/python3.7/site-packages (from matplotlib->mmdet>=3.0.0rc6) (1.3.2)\n",
      "Requirement already satisfied: tomli>=1.0.0 in /environment/miniconda3/lib/python3.7/site-packages (from setuptools-scm>=4->matplotlib->mmdet>=3.0.0rc6) (1.2.2)\n",
      "Requirement already satisfied: setuptools in /environment/miniconda3/lib/python3.7/site-packages (from setuptools-scm>=4->matplotlib->mmdet>=3.0.0rc6) (60.2.0)\n",
      "Requirement already satisfied: markdown-it-py>=2.2.0 in /environment/miniconda3/lib/python3.7/site-packages (from rich->mmengine<1.0.0,>=0.7.1->mmdet>=3.0.0rc6) (2.2.0)\n",
      "Requirement already satisfied: pygments<3.0.0,>=2.13.0 in /environment/miniconda3/lib/python3.7/site-packages (from rich->mmengine<1.0.0,>=0.7.1->mmdet>=3.0.0rc6) (2.17.2)\n",
      "Requirement already satisfied: typing-extensions<5.0,>=4.0.0 in /environment/miniconda3/lib/python3.7/site-packages (from rich->mmengine<1.0.0,>=0.7.1->mmdet>=3.0.0rc6) (4.0.1)\n",
      "Requirement already satisfied: mdurl~=0.1 in /environment/miniconda3/lib/python3.7/site-packages (from markdown-it-py>=2.2.0->rich->mmengine<1.0.0,>=0.7.1->mmdet>=3.0.0rc6) (0.1.2)\n",
      "Installing collected packages: mmcv\n",
      "  Attempting uninstall: mmcv\n",
      "    Found existing installation: mmcv 2.0.0rc3\n",
      "    Uninstalling mmcv-2.0.0rc3:\n",
      "      Successfully uninstalled mmcv-2.0.0rc3\n",
      "Successfully installed mmcv-2.0.1\n"
     ]
    }
   ],
   "source": [
    "!pip install -U openmim\n",
    "!mim install mmengine\n",
    "!mim install 'mmcv==2.0.0rc3'\n",
    "!mim install \"mmdet>=3.0.0rc6\""
   ]
  },
  {
   "cell_type": "code",
   "execution_count": 4,
   "id": "01437793-eae3-47fc-bdb1-3a4abeefb40b",
   "metadata": {
    "tags": []
   },
   "outputs": [
    {
     "name": "stdout",
     "output_type": "stream",
     "text": [
      "Looking in indexes: https://pypi.tuna.tsinghua.edu.cn/simple\n",
      "Requirement already satisfied: opencv-python in /environment/miniconda3/lib/python3.7/site-packages (4.5.4.60)\n",
      "Requirement already satisfied: pillow in /environment/miniconda3/lib/python3.7/site-packages (8.4.0)\n",
      "Requirement already satisfied: matplotlib in /environment/miniconda3/lib/python3.7/site-packages (3.5.0)\n",
      "Collecting seaborn\n",
      "  Downloading https://pypi.tuna.tsinghua.edu.cn/packages/8f/2e/17bbb83fbf102687bb2aa3d808add39da820a7698159302a1a69bb82e01c/seaborn-0.12.2-py3-none-any.whl (293 kB)\n",
      "\u001b[K     |████████████████████████████████| 293 kB 56.7 MB/s eta 0:00:01\n",
      "\u001b[?25hRequirement already satisfied: tqdm in /environment/miniconda3/lib/python3.7/site-packages (4.65.2)\n",
      "Requirement already satisfied: pycocotools in /environment/miniconda3/lib/python3.7/site-packages (2.0.7)\n",
      "Requirement already satisfied: numpy>=1.14.5 in /environment/miniconda3/lib/python3.7/site-packages (from opencv-python) (1.21.4)\n",
      "Requirement already satisfied: setuptools-scm>=4 in /environment/miniconda3/lib/python3.7/site-packages (from matplotlib) (6.3.2)\n",
      "Requirement already satisfied: kiwisolver>=1.0.1 in /environment/miniconda3/lib/python3.7/site-packages (from matplotlib) (1.3.2)\n",
      "Requirement already satisfied: fonttools>=4.22.0 in /environment/miniconda3/lib/python3.7/site-packages (from matplotlib) (4.28.3)\n",
      "Requirement already satisfied: pyparsing>=2.2.1 in /environment/miniconda3/lib/python3.7/site-packages (from matplotlib) (3.0.6)\n",
      "Requirement already satisfied: packaging>=20.0 in /environment/miniconda3/lib/python3.7/site-packages (from matplotlib) (21.3)\n",
      "Requirement already satisfied: python-dateutil>=2.7 in /environment/miniconda3/lib/python3.7/site-packages (from matplotlib) (2.8.2)\n",
      "Requirement already satisfied: cycler>=0.10 in /environment/miniconda3/lib/python3.7/site-packages (from matplotlib) (0.11.0)\n",
      "Requirement already satisfied: six>=1.5 in /environment/miniconda3/lib/python3.7/site-packages (from python-dateutil>=2.7->matplotlib) (1.16.0)\n",
      "Requirement already satisfied: setuptools in /environment/miniconda3/lib/python3.7/site-packages (from setuptools-scm>=4->matplotlib) (60.2.0)\n",
      "Requirement already satisfied: tomli>=1.0.0 in /environment/miniconda3/lib/python3.7/site-packages (from setuptools-scm>=4->matplotlib) (1.2.2)\n",
      "Requirement already satisfied: pandas>=0.25 in /environment/miniconda3/lib/python3.7/site-packages (from seaborn) (1.3.4)\n",
      "Requirement already satisfied: typing_extensions in /environment/miniconda3/lib/python3.7/site-packages (from seaborn) (4.0.1)\n",
      "Requirement already satisfied: pytz>=2017.3 in /environment/miniconda3/lib/python3.7/site-packages (from pandas>=0.25->seaborn) (2023.4)\n",
      "Installing collected packages: seaborn\n",
      "Successfully installed seaborn-0.12.2\n"
     ]
    }
   ],
   "source": [
    "!pip install opencv-python pillow matplotlib seaborn tqdm pycocotools -i https://pypi.tuna.tsinghua.edu.cn/simple"
   ]
  },
  {
   "cell_type": "code",
   "execution_count": 5,
   "id": "0e10a400-a570-45b4-ae2c-1e334ad77de9",
   "metadata": {},
   "outputs": [],
   "source": [
    "import os\n",
    "os.chdir('/home/featurize/work/Image_Website')"
   ]
  },
  {
   "cell_type": "code",
   "execution_count": 6,
   "id": "8e39c9d0-0d99-4773-931b-26f2015973bd",
   "metadata": {},
   "outputs": [
    {
     "name": "stdout",
     "output_type": "stream",
     "text": [
      "正克隆到 'ethanYaoyx-Image_Generation_for_Medical_Application_Dog_hip'...\n",
      "remote: Enumerating objects: 4623, done.\u001b[K\n",
      "remote: Counting objects: 100% (4561/4561), done.\u001b[K\n",
      "remote: Compressing objects: 100% (2769/2769), done.\u001b[K\n",
      "remote: Total 4623 (delta 1880), reused 4386 (delta 1708), pack-reused 62 (from 1)\u001b[K\n",
      "接收对象中: 100% (4623/4623), 279.40 MiB | 9.15 MiB/s, 完成.\n",
      "处理 delta 中: 100% (1905/1905), 完成.\n",
      "正在更新文件: 100% (3932/3932), 完成.\n"
     ]
    }
   ],
   "source": [
    "!git clone https://github.com/ethanYaoyx/ethanYaoyx-Image_Generation_for_Medical_Application_Dog_hip.git"
   ]
  },
  {
   "cell_type": "code",
   "execution_count": 7,
   "id": "67293356-4180-4a1c-955f-4327b148ee95",
   "metadata": {},
   "outputs": [],
   "source": [
    "import os\n",
    "os.chdir('/home/featurize/work/Image_Website/ethanYaoyx-Image_Generation_for_Medical_Application_Dog_hip/mmdetection')"
   ]
  },
  {
   "cell_type": "code",
   "execution_count": 9,
   "id": "2909f8c6-f684-4b0e-a1a6-6e19f6859665",
   "metadata": {},
   "outputs": [],
   "source": [
    "os.mkdir('checkpoint')\n",
    "\n",
    "os.mkdir('outputs')\n"
   ]
  },
  {
   "cell_type": "code",
   "execution_count": 10,
   "id": "2dd071c4-c5a0-4bff-b93d-d21099e0a4c5",
   "metadata": {},
   "outputs": [],
   "source": [
    "import os\n",
    "os.chdir('/home/featurize/work/Image_Website/ethanYaoyx-Image_Generation_for_Medical_Application_Dog_hip/mmpose')"
   ]
  },
  {
   "cell_type": "code",
   "execution_count": 12,
   "id": "a0d47a99-65b3-4130-8345-eb05a41bcce8",
   "metadata": {},
   "outputs": [],
   "source": [
    "os.mkdir('checkpoint')\n",
    "\n",
    "os.mkdir('outputs')"
   ]
  },
  {
   "cell_type": "code",
   "execution_count": 13,
   "id": "dde496bb-51a7-4124-91ce-695764435849",
   "metadata": {},
   "outputs": [
    {
     "name": "stdout",
     "output_type": "stream",
     "text": [
      "Pytorch 版本 1.10.0+cu113\n",
      "CUDA 是否可用 True\n"
     ]
    }
   ],
   "source": [
    "import torch, torchvision\n",
    "print('Pytorch 版本', torch.__version__)\n",
    "print('CUDA 是否可用',torch.cuda.is_available())"
   ]
  },
  {
   "cell_type": "code",
   "execution_count": 1,
   "id": "9a1d1bab-c0a7-488b-a751-d2f348907d5a",
   "metadata": {},
   "outputs": [
    {
     "name": "stdout",
     "output_type": "stream",
     "text": [
      "MMCV version 2.0.1\n",
      "CUDA version 11.3\n",
      "compiler version GCC 9.3\n"
     ]
    }
   ],
   "source": [
    "import mmcv\n",
    "from mmcv.ops import get_compiling_cuda_version, get_compiler_version\n",
    "print('MMCV version', mmcv.__version__)\n",
    "print('CUDA version', get_compiling_cuda_version())\n",
    "print('compiler version', get_compiler_version())"
   ]
  },
  {
   "cell_type": "code",
   "execution_count": 2,
   "id": "b7f92016-e465-4379-aa4f-a2d44a832c91",
   "metadata": {},
   "outputs": [
    {
     "name": "stdout",
     "output_type": "stream",
     "text": [
      "mmdetection版本 3.0.0\n"
     ]
    }
   ],
   "source": [
    "import mmdet\n",
    "print('mmdetection版本', mmdet.__version__)"
   ]
  },
  {
   "cell_type": "code",
   "execution_count": 4,
   "id": "b7d4d6c0-5854-489c-9c3e-aafa2e1ba2e6",
   "metadata": {},
   "outputs": [
    {
     "name": "stdout",
     "output_type": "stream",
     "text": [
      "Looking in indexes: https://pypi.tuna.tsinghua.edu.cn/simple\n",
      "Collecting flask\n",
      "  Downloading https://pypi.tuna.tsinghua.edu.cn/packages/9f/1a/8b6d48162861009d1e017a9740431c78d860809773b66cac220a11aa3310/Flask-2.2.5-py3-none-any.whl (101 kB)\n",
      "\u001b[K     |████████████████████████████████| 101 kB 5.9 MB/s ta 0:00:01\n",
      "\u001b[?25hCollecting click>=8.0\n",
      "  Downloading https://pypi.tuna.tsinghua.edu.cn/packages/7e/d4/7ebdbd03970677812aac39c869717059dbb71a4cfc033ca6e5221787892c/click-8.1.8-py3-none-any.whl (98 kB)\n",
      "\u001b[K     |████████████████████████████████| 98 kB 11.8 MB/s eta 0:00:01\n",
      "\u001b[?25hCollecting itsdangerous>=2.0\n",
      "  Downloading https://pypi.tuna.tsinghua.edu.cn/packages/68/5f/447e04e828f47465eeab35b5d408b7ebaaaee207f48b7136c5a7267a30ae/itsdangerous-2.1.2-py3-none-any.whl (15 kB)\n",
      "Requirement already satisfied: importlib-metadata>=3.6.0 in /environment/miniconda3/lib/python3.7/site-packages (from flask) (4.8.2)\n",
      "Requirement already satisfied: Jinja2>=3.0 in /environment/miniconda3/lib/python3.7/site-packages (from flask) (3.0.3)\n",
      "Collecting Werkzeug>=2.2.2\n",
      "  Downloading https://pypi.tuna.tsinghua.edu.cn/packages/f6/f8/9da63c1617ae2a1dec2fbf6412f3a0cfe9d4ce029eccbda6e1e4258ca45f/Werkzeug-2.2.3-py3-none-any.whl (233 kB)\n",
      "\u001b[K     |████████████████████████████████| 233 kB 4.8 MB/s eta 0:00:01\n",
      "\u001b[?25hRequirement already satisfied: typing-extensions>=3.6.4 in /environment/miniconda3/lib/python3.7/site-packages (from importlib-metadata>=3.6.0->flask) (4.0.1)\n",
      "Requirement already satisfied: zipp>=0.5 in /environment/miniconda3/lib/python3.7/site-packages (from importlib-metadata>=3.6.0->flask) (3.6.0)\n",
      "Requirement already satisfied: MarkupSafe>=2.0 in /environment/miniconda3/lib/python3.7/site-packages (from Jinja2>=3.0->flask) (2.0.1)\n",
      "Collecting MarkupSafe>=2.0\n",
      "  Downloading https://pypi.tuna.tsinghua.edu.cn/packages/4a/1d/c4f5016f87ced614eacc7d5fb85b25bcc0ff53e8f058d069fc8cbfdc3c7a/MarkupSafe-2.1.5-cp37-cp37m-manylinux_2_17_x86_64.manylinux2014_x86_64.whl (25 kB)\n",
      "Installing collected packages: MarkupSafe, Werkzeug, itsdangerous, click, flask\n",
      "  Attempting uninstall: MarkupSafe\n",
      "    Found existing installation: MarkupSafe 2.0.1\n",
      "    Uninstalling MarkupSafe-2.0.1:\n",
      "      Successfully uninstalled MarkupSafe-2.0.1\n",
      "  Attempting uninstall: Werkzeug\n",
      "    Found existing installation: Werkzeug 2.0.2\n",
      "    Uninstalling Werkzeug-2.0.2:\n",
      "      Successfully uninstalled Werkzeug-2.0.2\n",
      "  Attempting uninstall: click\n",
      "    Found existing installation: click 7.1.2\n",
      "    Uninstalling click-7.1.2:\n",
      "      Successfully uninstalled click-7.1.2\n",
      "\u001b[31mERROR: pip's dependency resolver does not currently take into account all the packages that are installed. This behaviour is the source of the following dependency conflicts.\n",
      "featurize 0.0.24 requires click==7.1.2, but you have click 8.1.8 which is incompatible.\n",
      "featurize 0.0.24 requires requests==2.24.0, but you have requests 2.28.2 which is incompatible.\u001b[0m\n",
      "Successfully installed MarkupSafe-2.1.5 Werkzeug-2.2.3 click-8.1.8 flask-2.2.5 itsdangerous-2.1.2\n",
      "Looking in indexes: https://pypi.tuna.tsinghua.edu.cn/simple\n",
      "Collecting pyngrok\n",
      "  Downloading https://pypi.tuna.tsinghua.edu.cn/packages/77/d7/36e6b44465e994e7dc4a434f69f0db66f861e5c303ef36dbbc4f49224ebe/pyngrok-7.0.5-py3-none-any.whl (21 kB)\n",
      "Requirement already satisfied: PyYAML in /environment/miniconda3/lib/python3.7/site-packages (from pyngrok) (6.0)\n",
      "Installing collected packages: pyngrok\n",
      "Successfully installed pyngrok-7.0.5\n"
     ]
    }
   ],
   "source": [
    "!pip install flask\n",
    "\n",
    "!pip install pyngrok\n"
   ]
  },
  {
   "cell_type": "code",
   "execution_count": 7,
   "id": "6aebbf74-2d4f-48e3-82a6-a67d18d164d5",
   "metadata": {},
   "outputs": [
    {
     "name": "stdout",
     "output_type": "stream",
     "text": [
      "Authtoken saved to configuration file: /home/featurize/.config/ngrok/ngrok.yml\n"
     ]
    }
   ],
   "source": [
    "# https://dashboard.ngrok.com/signup\n",
    "!ngrok config add-authtoken <my_token>\n"
   ]
  },
  {
   "cell_type": "code",
   "execution_count": null,
   "id": "8ecf27c4-39d8-4894-9705-7185a462fa2c",
   "metadata": {},
   "outputs": [],
   "source": []
  }
 ],
 "metadata": {
  "kernelspec": {
   "display_name": "Python 3 (ipykernel)",
   "language": "python",
   "name": "python3"
  },
  "language_info": {
   "codemirror_mode": {
    "name": "ipython",
    "version": 3
   },
   "file_extension": ".py",
   "mimetype": "text/x-python",
   "name": "python",
   "nbconvert_exporter": "python",
   "pygments_lexer": "ipython3",
   "version": "3.7.10"
  }
 },
 "nbformat": 4,
 "nbformat_minor": 5
}
